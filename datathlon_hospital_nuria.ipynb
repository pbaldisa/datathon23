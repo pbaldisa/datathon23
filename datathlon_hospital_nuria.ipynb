{
 "cells": [
  {
   "cell_type": "code",
   "execution_count": 170,
   "id": "40dd6ce0",
   "metadata": {},
   "outputs": [],
   "source": [
    "import pandas as pd\n",
    "import matplotlib.pyplot as plt\n",
    "import numpy as np\n",
    "import seaborn as sns"
   ]
  },
  {
   "cell_type": "code",
   "execution_count": 147,
   "id": "5bd019a0",
   "metadata": {},
   "outputs": [],
   "source": [
    "df = pd.read_excel('consumo_material_clean.xlsx')"
   ]
  },
  {
   "cell_type": "code",
   "execution_count": 148,
   "id": "b1a0f893",
   "metadata": {},
   "outputs": [
    {
     "name": "stdout",
     "output_type": "stream",
     "text": [
      "       CODIGO FECHAPEDIDO      NUMERO REFERENCIA  CANTIDADCOMPRA  \\\n",
      "0      E99808    01/01/23  1595724/23   178567.1              60   \n",
      "1      B41691    01/02/16    72714/16     400403              40   \n",
      "2      E64543    01/02/16    71961/16     403770              20   \n",
      "3      E65007    01/02/16    72773/16      20415             100   \n",
      "4      E64911    01/02/17    86159/17      20701             300   \n",
      "...       ...         ...         ...        ...             ...   \n",
      "15693  E64543    31/10/23  1334083/23     403770              30   \n",
      "15694  E64543    31/10/23  1334092/23     403770              20   \n",
      "15695  E64543    31/10/23  1335522/23     403770              10   \n",
      "15696  F50071    31/10/23  1336295/23     421554               5   \n",
      "15697  E65159    31/12/15   996520/15    281 421            1000   \n",
      "\n",
      "       UNIDADESCONSUMOCONTENIDAS      PRECIO  IMPORTELINEA    TIPOCOMPRA  \\\n",
      "0                             10   62.590000    375.540000  Compra menor   \n",
      "1                             10  102.803729    411.214916  Compra menor   \n",
      "2                              5   12.100000     48.400000  Compra menor   \n",
      "3                             50  215.325000    430.650000      Concurso   \n",
      "4                            300  792.000000    792.000000      Concurso   \n",
      "...                          ...         ...           ...           ...   \n",
      "15693                          5   12.100000     72.600000  Compra menor   \n",
      "15694                          5   12.100000     48.400000  Compra menor   \n",
      "15695                          5   12.100000     24.200000  Compra menor   \n",
      "15696                          5  114.950000    114.950000  Compra menor   \n",
      "15697                       1000   10.461204     10.461204  Compra menor   \n",
      "\n",
      "        ORIGEN          TGL                                           PRODUCTO  \n",
      "0       1-2-60     TRANSITO        APOSITO DE FIBRAS DE POLIACRILATO C/PLATA-3  \n",
      "1       0-10-1  ALMACENABLE  SOLUCION P/ LIMPIEZA Y DESCONTAMINACION DE HER...  \n",
      "2      0-4-111     TRANSITO                  APOSITO DE HIDROFIBRA  / CINTA-18  \n",
      "3       0-10-1  ALMACENABLE           APOSITO DE ESPUMA POLIURETANO / SACRO-11  \n",
      "4        0-6-1  ALMACENABLE                        APOSITO C/ CARBON Y PLATA-6  \n",
      "...        ...          ...                                                ...  \n",
      "15693  0-14-28     TRANSITO                  APOSITO DE HIDROFIBRA  / CINTA-18  \n",
      "15694  0-14-43     TRANSITO                  APOSITO DE HIDROFIBRA  / CINTA-18  \n",
      "15695  0-14-49     TRANSITO                  APOSITO DE HIDROFIBRA  / CINTA-18  \n",
      "15696    0-7-5     TRANSITO  APOSITO DE HIDROFIBRA HIDROCOLOIDE P/ BOMBA DE...  \n",
      "15697   0-10-1  ALMACENABLE           APOSITO PARA PEQUEÑAS HERIDAS REDONDO-19  \n",
      "\n",
      "[15698 rows x 12 columns]\n"
     ]
    }
   ],
   "source": [
    "print(df)"
   ]
  },
  {
   "cell_type": "code",
   "execution_count": 149,
   "id": "847bcb7f",
   "metadata": {},
   "outputs": [
    {
     "data": {
      "text/plain": [
       "CODIGO                         0\n",
       "FECHAPEDIDO                    0\n",
       "NUMERO                         0\n",
       "REFERENCIA                     0\n",
       "CANTIDADCOMPRA                 0\n",
       "UNIDADESCONSUMOCONTENIDAS      0\n",
       "PRECIO                         0\n",
       "IMPORTELINEA                   0\n",
       "TIPOCOMPRA                     0\n",
       "ORIGEN                         0\n",
       "TGL                          103\n",
       "PRODUCTO                       0\n",
       "dtype: int64"
      ]
     },
     "execution_count": 149,
     "metadata": {},
     "output_type": "execute_result"
    }
   ],
   "source": [
    "df.isnull().sum()"
   ]
  },
  {
   "cell_type": "code",
   "execution_count": 150,
   "id": "e8945829",
   "metadata": {},
   "outputs": [],
   "source": [
    "# Convert 'FECHAPEDIDO' to datetime\n",
    "df['FECHAPEDIDO'] = pd.to_datetime(df['FECHAPEDIDO'], format='%d/%m/%y')\n",
    "# Extract the year from 'FECHAPEDIDO'\n",
    "df['Year'] = df['FECHAPEDIDO'].dt.year"
   ]
  },
  {
   "cell_type": "code",
   "execution_count": 151,
   "id": "ddca08cc",
   "metadata": {},
   "outputs": [
    {
     "name": "stdout",
     "output_type": "stream",
     "text": [
      "['1' '0']\n"
     ]
    }
   ],
   "source": [
    "# Extract the first number from 'ORIGEN'\n",
    "df['FirstNumber'] = df['ORIGEN'].str.extract(r'^(\\d+)-')\n",
    "\n",
    "# Get unique values in the first number\n",
    "unique_first_numbers = df['FirstNumber'].unique()\n",
    "\n",
    "# Print the result\n",
    "print(unique_first_numbers)"
   ]
  },
  {
   "cell_type": "code",
   "execution_count": 152,
   "id": "7e1ca372",
   "metadata": {},
   "outputs": [
    {
     "name": "stdout",
     "output_type": "stream",
     "text": [
      "       CODIGO FECHAPEDIDO      NUMERO REFERENCIA  CANTIDADCOMPRA  \\\n",
      "0      E99808  2023-01-01  1595724/23   178567.1              60   \n",
      "136    F43580  2020-06-01   574119/20     409729              10   \n",
      "656    F43580  2021-07-02   672354/21     409729              10   \n",
      "1110   F43580  2022-05-03   500213/22     409729              10   \n",
      "1238   F43580  2020-08-03   830915/20     409729              10   \n",
      "1490   F43325  2021-02-04   129384/21     409761              40   \n",
      "1920   F42922  2021-11-04  1102970/21     409721               3   \n",
      "2197   F43580  2020-06-05   589693/20     409729              10   \n",
      "2371   F43580  2021-10-05   980141/21     409729              10   \n",
      "2474   F43580  2019-12-05  1141431/19     409729               5   \n",
      "2475   F43580  2019-12-05  1141432/19     409729               5   \n",
      "2839   F43580  2021-09-06   884139/21     409729              10   \n",
      "3338   E99808  2021-09-07   884965/21   178567.1              10   \n",
      "3642   F43580  2020-04-08   383133/20     409729               5   \n",
      "4362   F43580  2020-09-09   971563/20     409729              10   \n",
      "4424   F43580  2020-10-09  1070672/20     409729              10   \n",
      "4449   F43580  2021-11-09  1135508/21     409729              10   \n",
      "4550   F43580  2020-01-10    34775/20     409729               5   \n",
      "5057   F43580  2022-01-11    22701/22     409729              10   \n",
      "5058   F43581  2022-01-11    22701/22     409726               5   \n",
      "5534   F43325  2021-11-11  1143736/21     409761              40   \n",
      "5599   F43580  2021-01-12    33286/21     409729               5   \n",
      "5671   F43580  2020-02-12   146099/20     409729               5   \n",
      "6247   F43580  2021-05-13   471337/21     409729              10   \n",
      "6932   F43580  2020-07-14   733304/20     409729              10   \n",
      "7713   F43580  2020-01-16    54147/20     409729              10   \n",
      "7875   F43580  2021-04-16   374917/21     409729              10   \n",
      "8312   F43580  2021-02-17   176238/21     409729              10   \n",
      "8355   F43580  2020-03-17   271720/20     409729               5   \n",
      "8970   F43580  2020-05-18   533934/20     409729              10   \n",
      "9749   F43580  2021-01-20    74001/21     409729              10   \n",
      "10181  F43580  2020-11-20  1247899/20     409729              10   \n",
      "10227  F43580  2021-12-20  1306717/21     409729               5   \n",
      "10310  F43580  2022-02-21   200601/22     409729              10   \n",
      "10958  F43580  2020-04-22   448658/20     409729              10   \n",
      "11051  F43580  2021-06-22   618394/21     409729               5   \n",
      "11588  F43580  2021-06-23   625719/21     409729               5   \n",
      "11873  F43580  2019-12-23  1226633/19     409729              10   \n",
      "12244  F43580  2020-09-24  1015537/20     409729              10   \n",
      "13247  F43325  2021-08-26   857512/21     409761              20   \n",
      "13274  F42922  2019-09-26   860263/19     409721               3   \n",
      "13522  F43580  2020-03-27   334710/20     409729               5   \n",
      "13931  F42922  2020-01-28    96314/20     409721               3   \n",
      "14085  F43580  2021-05-28   530988/21     409729              10   \n",
      "14235  F43580  2021-09-28   956586/21     409729              10   \n",
      "14273  F43325  2022-10-28  1322775/22     409761              10   \n",
      "14383  F43580  2021-01-29   107662/21     409729              10   \n",
      "14636  F43580  2022-07-29   902000/22     409729               5   \n",
      "15158  F43325  2022-08-30  1056531/22     409761              10   \n",
      "15359  F43580  2022-01-31   118878/22     409729              10   \n",
      "15491  F42922  2022-05-31   653169/22     409721               6   \n",
      "15492  F43325  2022-05-31   653169/22     409761              20   \n",
      "\n",
      "       UNIDADESCONSUMOCONTENIDAS      PRECIO  IMPORTELINEA    TIPOCOMPRA  \\\n",
      "0                             10    62.59000     375.54000  Compra menor   \n",
      "136                            5   324.14800     648.29600  Compra menor   \n",
      "656                            5   324.14800     648.29600  Compra menor   \n",
      "1110                           5   324.14800     648.29600  Compra menor   \n",
      "1238                           5   324.14800     648.29600  Compra menor   \n",
      "1490                          10   543.84000    2175.36000  Compra menor   \n",
      "1920                           3  1211.40800    1211.40800  Compra menor   \n",
      "2197                           5   324.14800     648.29600  Compra menor   \n",
      "2371                           5   324.14800     648.29600  Compra menor   \n",
      "2474                           5   324.14800     324.14800  Compra menor   \n",
      "2475                           5   324.14800     324.14800  Compra menor   \n",
      "2839                           5   324.14800     648.29600  Compra menor   \n",
      "3338                          10    62.59500      62.59500      Concurso   \n",
      "3642                           5   324.14800     324.14800  Compra menor   \n",
      "4362                           5   324.14800     648.29600  Compra menor   \n",
      "4424                           5   324.14800     648.29600  Compra menor   \n",
      "4449                           5   324.14800     648.29600  Compra menor   \n",
      "4550                           5   324.14800     324.14800  Compra menor   \n",
      "5057                           5   324.14800     648.29600  Compra menor   \n",
      "5058                           5   342.16600     342.16600  Compra menor   \n",
      "5534                          10   543.84000    2175.36000  Compra menor   \n",
      "5599                           5   324.14800     324.14800  Compra menor   \n",
      "5671                           5   324.14800     324.14800  Compra menor   \n",
      "6247                           5   324.14800     648.29600  Compra menor   \n",
      "6932                           5   324.14800     648.29600  Compra menor   \n",
      "7713                           5   324.14800     648.29600  Compra menor   \n",
      "7875                           5   324.14800     648.29600  Compra menor   \n",
      "8312                           5   324.14800     648.29600  Compra menor   \n",
      "8355                           5   324.14800     324.14800  Compra menor   \n",
      "8970                           5   324.14800     648.29600  Compra menor   \n",
      "9749                           5   324.14800     648.29600  Compra menor   \n",
      "10181                          5   324.14800     648.29600  Compra menor   \n",
      "10227                          5   324.14800     324.14800  Compra menor   \n",
      "10310                          5   324.14800     648.29600  Compra menor   \n",
      "10958                          5   324.14800     648.29600  Compra menor   \n",
      "11051                          5   324.14800     324.14800  Compra menor   \n",
      "11588                          5   324.14800     324.14800  Compra menor   \n",
      "11873                          5   324.14800     648.29600  Compra menor   \n",
      "12244                          5   324.14800     648.29600  Compra menor   \n",
      "13247                         10   543.84000    1087.68000  Compra menor   \n",
      "13274                          3  1211.40800    1211.40800  Compra menor   \n",
      "13522                          5   324.14800     324.14800  Compra menor   \n",
      "13931                          3  1211.40800    1211.40800  Compra menor   \n",
      "14085                          5   324.14800     648.29600  Compra menor   \n",
      "14235                          5   324.14800     648.29600  Compra menor   \n",
      "14273                         10   581.90880     581.90880  Compra menor   \n",
      "14383                          5   324.14800     648.29600  Compra menor   \n",
      "14636                          5   346.84100     346.84100  Compra menor   \n",
      "15158                         10   581.90880     581.90880  Compra menor   \n",
      "15359                          5   324.14800     648.29600  Compra menor   \n",
      "15491                          3  1296.20656    2592.41312  Compra menor   \n",
      "15492                         10   581.90880    1163.81760  Compra menor   \n",
      "\n",
      "        ORIGEN       TGL                                           PRODUCTO  \\\n",
      "0       1-2-60  TRANSITO        APOSITO DE FIBRAS DE POLIACRILATO C/PLATA-3   \n",
      "136     1-2-59  TRANSITO  EQ. DE PRESION NEGATIVA / Espuma de poliuretan...   \n",
      "656     1-2-59  TRANSITO  EQ. DE PRESION NEGATIVA / Espuma de poliuretan...   \n",
      "1110    1-2-59  TRANSITO  EQ. DE PRESION NEGATIVA / Espuma de poliuretan...   \n",
      "1238    1-2-59  TRANSITO  EQ. DE PRESION NEGATIVA / Espuma de poliuretan...   \n",
      "1490   1-2-156  TRANSITO  APOSITO ESPUMA DE POLIVINILO ALCOHOL  P/ TERAP...   \n",
      "1920   1-2-175  TRANSITO               EQ. DE PRESIÓN NEGATIVA ABDOMINAL-29   \n",
      "2197    1-2-59  TRANSITO  EQ. DE PRESION NEGATIVA / Espuma de poliuretan...   \n",
      "2371    1-2-59  TRANSITO  EQ. DE PRESION NEGATIVA / Espuma de poliuretan...   \n",
      "2474    1-2-59  TRANSITO  EQ. DE PRESION NEGATIVA / Espuma de poliuretan...   \n",
      "2475    1-2-79  TRANSITO  EQ. DE PRESION NEGATIVA / Espuma de poliuretan...   \n",
      "2839    1-2-59  TRANSITO  EQ. DE PRESION NEGATIVA / Espuma de poliuretan...   \n",
      "3338   1-2-158  TRANSITO        APOSITO DE FIBRAS DE POLIACRILATO C/PLATA-3   \n",
      "3642    1-2-59  TRANSITO  EQ. DE PRESION NEGATIVA / Espuma de poliuretan...   \n",
      "4362    1-2-59  TRANSITO  EQ. DE PRESION NEGATIVA / Espuma de poliuretan...   \n",
      "4424    1-2-59  TRANSITO  EQ. DE PRESION NEGATIVA / Espuma de poliuretan...   \n",
      "4449    1-2-59  TRANSITO  EQ. DE PRESION NEGATIVA / Espuma de poliuretan...   \n",
      "4550    1-2-79  TRANSITO  EQ. DE PRESION NEGATIVA / Espuma de poliuretan...   \n",
      "5057    1-2-79  TRANSITO  EQ. DE PRESION NEGATIVA / Espuma de poliuretan...   \n",
      "5058    1-2-79  TRANSITO  EQ. DE PRESION NEGATIVA / Espuma de poliuretan...   \n",
      "5534   1-2-156  TRANSITO  APOSITO ESPUMA DE POLIVINILO ALCOHOL  P/ TERAP...   \n",
      "5599    1-2-59  TRANSITO  EQ. DE PRESION NEGATIVA / Espuma de poliuretan...   \n",
      "5671    1-2-59  TRANSITO  EQ. DE PRESION NEGATIVA / Espuma de poliuretan...   \n",
      "6247    1-2-59  TRANSITO  EQ. DE PRESION NEGATIVA / Espuma de poliuretan...   \n",
      "6932    1-2-59  TRANSITO  EQ. DE PRESION NEGATIVA / Espuma de poliuretan...   \n",
      "7713    1-2-59  TRANSITO  EQ. DE PRESION NEGATIVA / Espuma de poliuretan...   \n",
      "7875    1-2-59  TRANSITO  EQ. DE PRESION NEGATIVA / Espuma de poliuretan...   \n",
      "8312    1-2-59  TRANSITO  EQ. DE PRESION NEGATIVA / Espuma de poliuretan...   \n",
      "8355    1-2-59  TRANSITO  EQ. DE PRESION NEGATIVA / Espuma de poliuretan...   \n",
      "8970    1-2-59  TRANSITO  EQ. DE PRESION NEGATIVA / Espuma de poliuretan...   \n",
      "9749    1-2-79  TRANSITO  EQ. DE PRESION NEGATIVA / Espuma de poliuretan...   \n",
      "10181   1-2-59  TRANSITO  EQ. DE PRESION NEGATIVA / Espuma de poliuretan...   \n",
      "10227   1-2-59  TRANSITO  EQ. DE PRESION NEGATIVA / Espuma de poliuretan...   \n",
      "10310   1-2-79  TRANSITO  EQ. DE PRESION NEGATIVA / Espuma de poliuretan...   \n",
      "10958   1-2-59  TRANSITO  EQ. DE PRESION NEGATIVA / Espuma de poliuretan...   \n",
      "11051   1-2-59  TRANSITO  EQ. DE PRESION NEGATIVA / Espuma de poliuretan...   \n",
      "11588   1-2-78  TRANSITO  EQ. DE PRESION NEGATIVA / Espuma de poliuretan...   \n",
      "11873   1-2-59  TRANSITO  EQ. DE PRESION NEGATIVA / Espuma de poliuretan...   \n",
      "12244   1-2-59  TRANSITO  EQ. DE PRESION NEGATIVA / Espuma de poliuretan...   \n",
      "13247  1-2-157  TRANSITO  APOSITO ESPUMA DE POLIVINILO ALCOHOL  P/ TERAP...   \n",
      "13274  1-2-156  TRANSITO               EQ. DE PRESIÓN NEGATIVA ABDOMINAL-29   \n",
      "13522   1-2-59  TRANSITO  EQ. DE PRESION NEGATIVA / Espuma de poliuretan...   \n",
      "13931  1-2-121  TRANSITO               EQ. DE PRESIÓN NEGATIVA ABDOMINAL-29   \n",
      "14085   1-2-59  TRANSITO  EQ. DE PRESION NEGATIVA / Espuma de poliuretan...   \n",
      "14235   1-2-59  TRANSITO  EQ. DE PRESION NEGATIVA / Espuma de poliuretan...   \n",
      "14273   1-2-60  TRANSITO  APOSITO ESPUMA DE POLIVINILO ALCOHOL  P/ TERAP...   \n",
      "14383   1-2-59  TRANSITO  EQ. DE PRESION NEGATIVA / Espuma de poliuretan...   \n",
      "14636   1-2-59  TRANSITO  EQ. DE PRESION NEGATIVA / Espuma de poliuretan...   \n",
      "15158   1-2-60  TRANSITO  APOSITO ESPUMA DE POLIVINILO ALCOHOL  P/ TERAP...   \n",
      "15359   1-2-59  TRANSITO  EQ. DE PRESION NEGATIVA / Espuma de poliuretan...   \n",
      "15491  1-2-157  TRANSITO               EQ. DE PRESIÓN NEGATIVA ABDOMINAL-29   \n",
      "15492  1-2-157  TRANSITO  APOSITO ESPUMA DE POLIVINILO ALCOHOL  P/ TERAP...   \n",
      "\n",
      "       Year FirstNumber  \n",
      "0      2023           1  \n",
      "136    2020           1  \n",
      "656    2021           1  \n",
      "1110   2022           1  \n",
      "1238   2020           1  \n",
      "1490   2021           1  \n",
      "1920   2021           1  \n",
      "2197   2020           1  \n",
      "2371   2021           1  \n",
      "2474   2019           1  \n",
      "2475   2019           1  \n",
      "2839   2021           1  \n",
      "3338   2021           1  \n",
      "3642   2020           1  \n",
      "4362   2020           1  \n",
      "4424   2020           1  \n",
      "4449   2021           1  \n",
      "4550   2020           1  \n",
      "5057   2022           1  \n",
      "5058   2022           1  \n",
      "5534   2021           1  \n",
      "5599   2021           1  \n",
      "5671   2020           1  \n",
      "6247   2021           1  \n",
      "6932   2020           1  \n",
      "7713   2020           1  \n",
      "7875   2021           1  \n",
      "8312   2021           1  \n",
      "8355   2020           1  \n",
      "8970   2020           1  \n",
      "9749   2021           1  \n",
      "10181  2020           1  \n",
      "10227  2021           1  \n",
      "10310  2022           1  \n",
      "10958  2020           1  \n",
      "11051  2021           1  \n",
      "11588  2021           1  \n",
      "11873  2019           1  \n",
      "12244  2020           1  \n",
      "13247  2021           1  \n",
      "13274  2019           1  \n",
      "13522  2020           1  \n",
      "13931  2020           1  \n",
      "14085  2021           1  \n",
      "14235  2021           1  \n",
      "14273  2022           1  \n",
      "14383  2021           1  \n",
      "14636  2022           1  \n",
      "15158  2022           1  \n",
      "15359  2022           1  \n",
      "15491  2022           1  \n",
      "15492  2022           1  \n"
     ]
    }
   ],
   "source": [
    "# Estudiar las diferentes regiones con hospitales\n",
    "# Select rows where the first number in 'ORIGEN' is 1\n",
    "selected_rows_1 = df[df['ORIGEN'].str.startswith('1')]\n",
    "\n",
    "# Print the number of results\n",
    "print(selected_rows_1)"
   ]
  },
  {
   "cell_type": "code",
   "execution_count": 153,
   "id": "c157cea8",
   "metadata": {},
   "outputs": [
    {
     "name": "stdout",
     "output_type": "stream",
     "text": [
      "Number of rows where the first number in 'ORIGEN' is 1: 52\n"
     ]
    }
   ],
   "source": [
    "# Get the number of rows in the selected subset\n",
    "num_rows_selected_1 = selected_rows_1.shape[0]\n",
    "\n",
    "# Print the result\n",
    "print(f\"Number of rows where the first number in 'ORIGEN' is 1: {num_rows_selected_1}\")"
   ]
  },
  {
   "cell_type": "code",
   "execution_count": 154,
   "id": "031351b0",
   "metadata": {},
   "outputs": [
    {
     "name": "stdout",
     "output_type": "stream",
     "text": [
      "Number of rows where the first number in 'ORIGEN' is 0: 15646\n"
     ]
    }
   ],
   "source": [
    "# Select rows where the first number in 'ORIGEN' is 1\n",
    "selected_rows_0 = df[df['ORIGEN'].str.startswith('0')]\n",
    "num_rows_selected_0 = selected_rows_0.shape[0]\n",
    "# Print the number of results\n",
    "print(f\"Number of rows where the first number in 'ORIGEN' is 0: {num_rows_selected_0}\")"
   ]
  },
  {
   "cell_type": "code",
   "execution_count": 155,
   "id": "b4690157",
   "metadata": {},
   "outputs": [
    {
     "name": "stdout",
     "output_type": "stream",
     "text": [
      "   Year  CANTIDADCOMPRA\n",
      "0  2015          515341\n",
      "1  2016          530258\n",
      "2  2017          570795\n",
      "3  2018          593015\n",
      "4  2019          665085\n",
      "5  2020          597413\n",
      "6  2021          646592\n",
      "7  2022          889713\n",
      "8  2023          788040\n"
     ]
    }
   ],
   "source": [
    "# Group by year and calculate the sum of 'CANTIDADCOMPRA' for each year\n",
    "result = df.groupby('Year')['CANTIDADCOMPRA'].sum().reset_index()\n",
    "\n",
    "# Print the result\n",
    "print(result)"
   ]
  },
  {
   "cell_type": "code",
   "execution_count": 156,
   "id": "bdf91d22",
   "metadata": {},
   "outputs": [
    {
     "data": {
      "image/png": "[encoded data removed]",
      "text/plain": [
       "<Figure size 432x288 with 1 Axes>"
      ]
     },
     "metadata": {
      "needs_background": "light"
     },
     "output_type": "display_data"
    }
   ],
   "source": [
    "# Plotting the histogram\n",
    "plt.bar(result['Year'], result['CANTIDADCOMPRA'])\n",
    "plt.xlabel('Year')\n",
    "plt.ylabel('Total Quantity Purchased')\n",
    "plt.title('Total Quantity Purchased Each Year')\n",
    "plt.show()"
   ]
  },
  {
   "cell_type": "code",
   "execution_count": 157,
   "id": "520986c1",
   "metadata": {},
   "outputs": [
    {
     "name": "stdout",
     "output_type": "stream",
     "text": [
      "['B41691' 'E65007' 'E64911' 'E65509' 'E65894' 'E66071' 'E64663' 'E65056'\n",
      " 'E70130' 'E64946' 'E64764' 'E64765' 'E64932' 'E64983' 'E69682' 'E99807'\n",
      " 'E64544' 'E85758' 'E64940' 'E73753' 'E65159' 'E65485' 'E64751' 'E65201'\n",
      " 'E65486' 'E64488' 'E85769' 'C26183' 'E64750' 'E67835' 'C56207']\n"
     ]
    }
   ],
   "source": [
    "# Filter rows where 'TGL' is 'ALMACENABLE'\n",
    "almacenable_df = df[df['TGL'] == 'ALMACENABLE']\n",
    "\n",
    "# Get products that are only associated with 'ALMACENABLE'\n",
    "products_almacenable_only = almacenable_df[~almacenable_df['CODIGO'].isin(df[df['TGL'] == 'TRANSITO']['PRODUCTO'])]['CODIGO'].unique()\n",
    "\n",
    "# Print the result\n",
    "print(products_almacenable_only)"
   ]
  },
  {
   "cell_type": "code",
   "execution_count": 158,
   "id": "fbee8491",
   "metadata": {},
   "outputs": [
    {
     "name": "stdout",
     "output_type": "stream",
     "text": [
      "['E99808' 'E64543' 'E64898' 'E64761' 'E78950' 'B40558' 'F43580' 'F50071'\n",
      " 'F43325' 'F44200' 'F43581' 'F43585' 'F42922' 'F46846' 'F46843' 'F43331']\n"
     ]
    }
   ],
   "source": [
    "# Filter rows where 'TGL' is 'TRANSITO'\n",
    "transito_df = df[df['TGL'] == 'TRANSITO']\n",
    "\n",
    "# Get products that are only associated with 'TRANSITO'\n",
    "products_transito_only = transito_df[~transito_df['CODIGO'].isin(df[df['TGL'] == 'ALMACENABLE']['PRODUCTO'])]['CODIGO'].unique()\n",
    "\n",
    "# Print the result\n",
    "print(products_transito_only)"
   ]
  },
  {
   "cell_type": "code",
   "execution_count": 159,
   "id": "4a3cbc5d",
   "metadata": {},
   "outputs": [
    {
     "name": "stdout",
     "output_type": "stream",
     "text": [
      "There are no common elements.\n"
     ]
    }
   ],
   "source": [
    "# Convert lists to sets and check if there are common elements\n",
    "common_elements = set(products_transito_only).intersection(set(products_almacenable_only))\n",
    "\n",
    "# Check if there are common elements\n",
    "if common_elements:\n",
    "    print(f\"There are common elements: {common_elements}\")\n",
    "else:\n",
    "    print(\"There are no common elements.\")"
   ]
  },
  {
   "cell_type": "code",
   "execution_count": 160,
   "id": "4d7505eb",
   "metadata": {},
   "outputs": [
    {
     "name": "stdout",
     "output_type": "stream",
     "text": [
      "48\n"
     ]
    }
   ],
   "source": [
    "# Get the unique elements by its CODIGO\n",
    "unique_codigos = df['CODIGO'].unique()\n",
    "print(len(unique_codigos))"
   ]
  },
  {
   "cell_type": "code",
   "execution_count": 161,
   "id": "67e84cd7",
   "metadata": {},
   "outputs": [
    {
     "name": "stdout",
     "output_type": "stream",
     "text": [
      "16\n",
      "31\n",
      "0\n"
     ]
    }
   ],
   "source": [
    "# Sum corresponding elements from the three lists\n",
    "len_list1 = len(products_transito_only)\n",
    "len_list2 = len(products_almacenable_only)\n",
    "len_list3 = len(common_elements)\n",
    "\n",
    "# Print the result\n",
    "print(len_list1)\n",
    "print(len_list2)\n",
    "print(len_list3)"
   ]
  },
  {
   "cell_type": "markdown",
   "id": "136e2b2c",
   "metadata": {},
   "source": [
    "Cada quant temps es demanen els almacenables?"
   ]
  },
  {
   "cell_type": "code",
   "execution_count": 187,
   "id": "082a6914",
   "metadata": {},
   "outputs": [],
   "source": [
    "df['id_hospital'] = df['ORIGEN'].apply(lambda x: x.split('-')[1] if x.split('-')[0] == '0' else '20')\n",
    "df['id_department'] = df['ORIGEN'].apply(lambda x: x.split('-')[2] if '-' in x else '')\n",
    "df['total_units'] = df['CANTIDADCOMPRA'] * df['UNIDADESCONSUMOCONTENIDAS']"
   ]
  },
  {
   "cell_type": "code",
   "execution_count": 188,
   "id": "33b9fff5",
   "metadata": {},
   "outputs": [
    {
     "data": {
      "text/html": [
       "<div>\n",
       "<style scoped>\n",
       "    .dataframe tbody tr th:only-of-type {\n",
       "        vertical-align: middle;\n",
       "    }\n",
       "\n",
       "    .dataframe tbody tr th {\n",
       "        vertical-align: top;\n",
       "    }\n",
       "\n",
       "    .dataframe thead th {\n",
       "        text-align: right;\n",
       "    }\n",
       "</style>\n",
       "<table border=\"1\" class=\"dataframe\">\n",
       "  <thead>\n",
       "    <tr style=\"text-align: right;\">\n",
       "      <th></th>\n",
       "      <th>CODIGO</th>\n",
       "      <th>FECHAPEDIDO</th>\n",
       "      <th>NUMERO</th>\n",
       "      <th>REFERENCIA</th>\n",
       "      <th>CANTIDADCOMPRA</th>\n",
       "      <th>UNIDADESCONSUMOCONTENIDAS</th>\n",
       "      <th>PRECIO</th>\n",
       "      <th>IMPORTELINEA</th>\n",
       "      <th>TIPOCOMPRA</th>\n",
       "      <th>ORIGEN</th>\n",
       "      <th>TGL</th>\n",
       "      <th>PRODUCTO</th>\n",
       "      <th>Year</th>\n",
       "      <th>FirstNumber</th>\n",
       "      <th>id_hospital</th>\n",
       "      <th>total_units</th>\n",
       "      <th>DaysBetweenOrders</th>\n",
       "      <th>id_department</th>\n",
       "    </tr>\n",
       "  </thead>\n",
       "  <tbody>\n",
       "    <tr>\n",
       "      <th>409</th>\n",
       "      <td>B41691</td>\n",
       "      <td>2015-01-02</td>\n",
       "      <td>1292/15</td>\n",
       "      <td>400403</td>\n",
       "      <td>100</td>\n",
       "      <td>10</td>\n",
       "      <td>102.803729</td>\n",
       "      <td>1028.03729</td>\n",
       "      <td>Compra menor</td>\n",
       "      <td>0-0-2</td>\n",
       "      <td>ALMACENABLE</td>\n",
       "      <td>SOLUCION P/ LIMPIEZA Y DESCONTAMINACION DE HER...</td>\n",
       "      <td>2015</td>\n",
       "      <td>0</td>\n",
       "      <td>0</td>\n",
       "      <td>1000</td>\n",
       "      <td>NaN</td>\n",
       "      <td>2</td>\n",
       "    </tr>\n",
       "    <tr>\n",
       "      <th>13490</th>\n",
       "      <td>B41691</td>\n",
       "      <td>2015-03-27</td>\n",
       "      <td>235708/15</td>\n",
       "      <td>400403</td>\n",
       "      <td>100</td>\n",
       "      <td>10</td>\n",
       "      <td>102.803729</td>\n",
       "      <td>1028.03729</td>\n",
       "      <td>Compra menor</td>\n",
       "      <td>0-0-2</td>\n",
       "      <td>ALMACENABLE</td>\n",
       "      <td>SOLUCION P/ LIMPIEZA Y DESCONTAMINACION DE HER...</td>\n",
       "      <td>2015</td>\n",
       "      <td>0</td>\n",
       "      <td>0</td>\n",
       "      <td>1000</td>\n",
       "      <td>84.0</td>\n",
       "      <td>2</td>\n",
       "    </tr>\n",
       "    <tr>\n",
       "      <th>14046</th>\n",
       "      <td>B41691</td>\n",
       "      <td>2015-05-28</td>\n",
       "      <td>434566/15</td>\n",
       "      <td>400403</td>\n",
       "      <td>100</td>\n",
       "      <td>10</td>\n",
       "      <td>102.803729</td>\n",
       "      <td>1028.03729</td>\n",
       "      <td>Compra menor</td>\n",
       "      <td>0-0-2</td>\n",
       "      <td>ALMACENABLE</td>\n",
       "      <td>SOLUCION P/ LIMPIEZA Y DESCONTAMINACION DE HER...</td>\n",
       "      <td>2015</td>\n",
       "      <td>0</td>\n",
       "      <td>0</td>\n",
       "      <td>1000</td>\n",
       "      <td>62.0</td>\n",
       "      <td>2</td>\n",
       "    </tr>\n",
       "    <tr>\n",
       "      <th>6326</th>\n",
       "      <td>B41691</td>\n",
       "      <td>2015-07-13</td>\n",
       "      <td>631847/15</td>\n",
       "      <td>400403</td>\n",
       "      <td>100</td>\n",
       "      <td>10</td>\n",
       "      <td>102.803729</td>\n",
       "      <td>1028.03729</td>\n",
       "      <td>Compra menor</td>\n",
       "      <td>0-0-2</td>\n",
       "      <td>ALMACENABLE</td>\n",
       "      <td>SOLUCION P/ LIMPIEZA Y DESCONTAMINACION DE HER...</td>\n",
       "      <td>2015</td>\n",
       "      <td>0</td>\n",
       "      <td>0</td>\n",
       "      <td>1000</td>\n",
       "      <td>46.0</td>\n",
       "      <td>2</td>\n",
       "    </tr>\n",
       "    <tr>\n",
       "      <th>8042</th>\n",
       "      <td>B41691</td>\n",
       "      <td>2015-09-16</td>\n",
       "      <td>745445/15</td>\n",
       "      <td>400403</td>\n",
       "      <td>100</td>\n",
       "      <td>10</td>\n",
       "      <td>102.803729</td>\n",
       "      <td>1028.03729</td>\n",
       "      <td>Compra menor</td>\n",
       "      <td>0-0-2</td>\n",
       "      <td>ALMACENABLE</td>\n",
       "      <td>SOLUCION P/ LIMPIEZA Y DESCONTAMINACION DE HER...</td>\n",
       "      <td>2015</td>\n",
       "      <td>0</td>\n",
       "      <td>0</td>\n",
       "      <td>1000</td>\n",
       "      <td>65.0</td>\n",
       "      <td>2</td>\n",
       "    </tr>\n",
       "  </tbody>\n",
       "</table>\n",
       "</div>"
      ],
      "text/plain": [
       "       CODIGO FECHAPEDIDO     NUMERO REFERENCIA  CANTIDADCOMPRA  \\\n",
       "409    B41691  2015-01-02    1292/15     400403             100   \n",
       "13490  B41691  2015-03-27  235708/15     400403             100   \n",
       "14046  B41691  2015-05-28  434566/15     400403             100   \n",
       "6326   B41691  2015-07-13  631847/15     400403             100   \n",
       "8042   B41691  2015-09-16  745445/15     400403             100   \n",
       "\n",
       "       UNIDADESCONSUMOCONTENIDAS      PRECIO  IMPORTELINEA    TIPOCOMPRA  \\\n",
       "409                           10  102.803729    1028.03729  Compra menor   \n",
       "13490                         10  102.803729    1028.03729  Compra menor   \n",
       "14046                         10  102.803729    1028.03729  Compra menor   \n",
       "6326                          10  102.803729    1028.03729  Compra menor   \n",
       "8042                          10  102.803729    1028.03729  Compra menor   \n",
       "\n",
       "      ORIGEN          TGL                                           PRODUCTO  \\\n",
       "409    0-0-2  ALMACENABLE  SOLUCION P/ LIMPIEZA Y DESCONTAMINACION DE HER...   \n",
       "13490  0-0-2  ALMACENABLE  SOLUCION P/ LIMPIEZA Y DESCONTAMINACION DE HER...   \n",
       "14046  0-0-2  ALMACENABLE  SOLUCION P/ LIMPIEZA Y DESCONTAMINACION DE HER...   \n",
       "6326   0-0-2  ALMACENABLE  SOLUCION P/ LIMPIEZA Y DESCONTAMINACION DE HER...   \n",
       "8042   0-0-2  ALMACENABLE  SOLUCION P/ LIMPIEZA Y DESCONTAMINACION DE HER...   \n",
       "\n",
       "       Year FirstNumber id_hospital  total_units  DaysBetweenOrders  \\\n",
       "409    2015           0           0         1000                NaN   \n",
       "13490  2015           0           0         1000               84.0   \n",
       "14046  2015           0           0         1000               62.0   \n",
       "6326   2015           0           0         1000               46.0   \n",
       "8042   2015           0           0         1000               65.0   \n",
       "\n",
       "      id_department  \n",
       "409               2  \n",
       "13490             2  \n",
       "14046             2  \n",
       "6326              2  \n",
       "8042              2  "
      ]
     },
     "execution_count": 188,
     "metadata": {},
     "output_type": "execute_result"
    }
   ],
   "source": [
    "df.head()"
   ]
  },
  {
   "cell_type": "code",
   "execution_count": 164,
   "id": "5fba1943",
   "metadata": {},
   "outputs": [
    {
     "name": "stdout",
     "output_type": "stream",
     "text": [
      "    CODIGO  CaducidadAllHospitals\n",
      "0   B40558               5.246654\n",
      "1   B41691               3.489177\n",
      "2   C26183              64.224490\n",
      "3   C56207              71.813953\n",
      "4   E64488              10.632450\n",
      "5   E64543               3.482124\n",
      "6   E64544               7.045673\n",
      "7   E64663               4.255291\n",
      "8   E64750               9.411765\n",
      "9   E64751               6.346457\n",
      "10  E64761              18.365079\n",
      "11  E64764               7.793689\n",
      "12  E64765              11.131488\n",
      "13  E64898              18.339450\n",
      "14  E64911               7.323256\n",
      "15  E64932               5.476923\n",
      "16  E64940              21.722973\n",
      "17  E64946               8.270619\n",
      "18  E64983               5.380872\n",
      "19  E65007              13.647826\n",
      "20  E65056               5.088748\n",
      "21  E65159              11.881481\n",
      "22  E65201              39.530864\n",
      "23  E65485              10.193651\n",
      "24  E65486              13.242798\n",
      "25  E65509              10.331169\n",
      "26  E65894              12.350000\n",
      "27  E66071               3.594203\n",
      "28  E67462              23.058824\n",
      "29  E67835              33.113402\n",
      "30  E69682              11.150000\n",
      "31  E70130              10.070288\n",
      "32  E73753               9.354651\n",
      "33  E78950               4.343972\n",
      "34  E85758               5.513736\n",
      "35  E85769              10.619048\n",
      "36  E99807               3.683919\n",
      "37  E99808               3.156894\n",
      "38  F42922              19.115385\n",
      "39  F43325              23.693548\n",
      "40  F43331              55.416667\n",
      "41  F43580               4.432836\n",
      "42  F43581               5.888446\n",
      "43  F43585              13.675926\n",
      "44  F44200              12.048000\n",
      "45  F46843              56.961538\n",
      "46  F46846              21.710145\n",
      "47  F50071              22.923077\n"
     ]
    }
   ],
   "source": [
    "# Sort DataFrame by 'CODIGO' and 'FECHAPEDIDO'\n",
    "df.sort_values(['CODIGO', 'FECHAPEDIDO'], inplace=True)\n",
    "\n",
    "# Calculate the difference in days between consecutive 'FECHAPEDIDO' for each 'CODIGO'\n",
    "df['DaysBetweenOrders'] = df.groupby('CODIGO')['FECHAPEDIDO'].diff().dt.days\n",
    "\n",
    "# Calculate the average number of days between orders for each 'CODIGO'\n",
    "caducidad_estimada = df.groupby('CODIGO')['DaysBetweenOrders'].mean().reset_index(name='CaducidadAllHospitals')\n",
    "\n",
    "# Print the result\n",
    "print(caducidad_estimada)"
   ]
  },
  {
   "cell_type": "code",
   "execution_count": 186,
   "id": "38c54bf0",
   "metadata": {},
   "outputs": [
    {
     "data": {
      "text/plain": [
       "array(['0', '1', '10', '11', '12', '13', '14', '15', '16', '17', '18',\n",
       "       '19', '20', '3', '4', '5', '6', '7', '8', '9'], dtype=object)"
      ]
     },
     "execution_count": 186,
     "metadata": {},
     "output_type": "execute_result"
    }
   ],
   "source": [
    "# Caducitat per cada hospital\n",
    "df['id_hospital'].unique()"
   ]
  },
  {
   "cell_type": "code",
   "execution_count": 167,
   "id": "c490cd69",
   "metadata": {},
   "outputs": [
    {
     "name": "stdout",
     "output_type": "stream",
     "text": [
      "    id_hospital  CODIGO  AverageDaysPerOrderPerHospital\n",
      "0             0  B41691                       19.827160\n",
      "1             0  C26183                      634.333333\n",
      "2             0  C56207                      459.333333\n",
      "3             0  E64488                       28.196429\n",
      "4             0  E64544                       21.475806\n",
      "..          ...     ...                             ...\n",
      "306           9  F43580                       16.000000\n",
      "307           9  F44200                      107.833333\n",
      "308           9  F46843                       35.000000\n",
      "309           9  F46846                             NaN\n",
      "310           9  F50071                      127.200000\n",
      "\n",
      "[311 rows x 3 columns]\n"
     ]
    }
   ],
   "source": [
    "# Convert 'FECHAPEDIDO' to datetime\n",
    "df['FECHAPEDIDO'] = pd.to_datetime(df['FECHAPEDIDO'], format='%d/%m/%y')\n",
    "\n",
    "# Sort DataFrame by 'id_hospital', 'CODIGO', and 'FECHAPEDIDO'\n",
    "df.sort_values(['id_hospital', 'CODIGO', 'FECHAPEDIDO'], inplace=True)\n",
    "\n",
    "# Calculate the difference in days between consecutive 'FECHAPEDIDO' for each 'id_hospital' and 'CODIGO'\n",
    "df['DaysBetweenOrders'] = df.groupby(['id_hospital', 'CODIGO'])['FECHAPEDIDO'].diff().dt.days\n",
    "\n",
    "# Calculate the mean of 'DaysBetweenOrders' for each 'CODIGO' and each 'id_hospital'\n",
    "average_days_per_order_per_hospital = df.groupby(['id_hospital', 'CODIGO'])['DaysBetweenOrders'].mean().reset_index(name='AverageDaysPerOrderPerHospital')\n",
    "\n",
    "# Print the result\n",
    "print(average_days_per_order_per_hospital)"
   ]
  },
  {
   "cell_type": "code",
   "execution_count": 184,
   "id": "fa0e3cfe",
   "metadata": {},
   "outputs": [
    {
     "data": {
      "image/png": "[encoded data removed]",
      "text/plain": [
       "<Figure size 432x288 with 1 Axes>"
      ]
     },
     "metadata": {},
     "output_type": "display_data"
    }
   ],
   "source": [
    "grouped_df=average_days_per_order_per_hospital.copy()\n",
    "\n",
    "python_colors = ['b', 'g', 'r', 'c', 'm', 'y', 'k', 'orange', 'purple']\n",
    "# Connect the dots\n",
    "for id_hospital, color in zip(grouped_df['id_hospital'].unique(), python_colors):\n",
    "    hospital_data = grouped_df[grouped_df['id_hospital'] == id_hospital]\n",
    "    plt.plot(hospital_data['CODIGO'], hospital_data['AverageDaysPerOrderPerHospital'], marker='o', linestyle='-', color=color, label=str(id_hospital))\n",
    "\n",
    "\n",
    "plt.title(f'Data by hospital')\n",
    "plt.xlabel('CODE')\n",
    "plt.ylabel('Average Days per order')\n",
    "plt.legend(title='Id hospital', loc='upper right')\n",
    "plt.show()\n"
   ]
  },
  {
   "cell_type": "code",
   "execution_count": null,
   "id": "00ea133c",
   "metadata": {},
   "outputs": [],
   "source": []
  }
 ],
 "metadata": {
  "kernelspec": {
   "display_name": "Python 3 (ipykernel)",
   "language": "python",
   "name": "python3"
  },
  "language_info": {
   "codemirror_mode": {
    "name": "ipython",
    "version": 3
   },
   "file_extension": ".py",
   "mimetype": "text/x-python",
   "name": "python",
   "nbconvert_exporter": "python",
   "pygments_lexer": "ipython3",
   "version": "3.9.12"
  }
 },
 "nbformat": 4,
 "nbformat_minor": 5
}
